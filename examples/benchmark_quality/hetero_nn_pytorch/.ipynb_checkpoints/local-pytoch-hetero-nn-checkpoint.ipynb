{
 "cells": [
  {
   "cell_type": "code",
   "execution_count": 79,
   "metadata": {},
   "outputs": [],
   "source": [
    "import argparse\n",
    "import numpy as np\n",
    "import os\n",
    "from tensorflow import keras\n",
    "import pandas\n",
    "import tensorflow as tf\n",
    "from tensorflow.keras.utils import to_categorical\n",
    "from tensorflow.keras import optimizers\n",
    "\n",
    "from sklearn import metrics\n",
    "from pipeline.utils.tools import JobConfig\n",
    "from sklearn.preprocessing import LabelEncoder"
   ]
  },
  {
   "cell_type": "code",
   "execution_count": 80,
   "metadata": {},
   "outputs": [],
   "source": [
    "import torch as t\n",
    "from torch import nn\n",
    "from torch.utils.data import Dataset, DataLoader \n",
    "import tqdm\n",
    "\n",
    "class TestModel(t.nn.Module):\n",
    "    \n",
    "    def __init__(self, guest_input_shape, host_input_shape):\n",
    "        super(TestModel, self).__init__()\n",
    "        \n",
    "        self.guest_bottom = t.nn.Sequential(\n",
    "            nn.Linear(guest_input_shape, 10, True),\n",
    "            nn.ReLU(),\n",
    "            nn.Linear(10, 8, True),\n",
    "            nn.ReLU()\n",
    "            )\n",
    "        \n",
    "        self.host_bottom = t.nn.Sequential(\n",
    "            nn.Linear(host_input_shape, 10, True),\n",
    "            nn.ReLU(),\n",
    "            nn.Linear(10, 8, True),\n",
    "            nn.ReLU()\n",
    "        )\n",
    "        \n",
    "        self.inter_a, self.inter_b = t.nn.Linear(8, 4, True), t.nn.Linear(8, 4, True)\n",
    "        \n",
    "        self.top_model_guest = t.nn.Sequential(\n",
    "            nn.Linear(4, 1, True),\n",
    "            nn.Sigmoid()\n",
    "        )\n",
    "    \n",
    "    def forward(self, data):\n",
    "        x_guest, x_host = data[0].type(t.float), data[1].type(t.float)\n",
    "        guest_fw = self.inter_a(self.guest_bottom(x_guest))\n",
    "        host_fw = self.inter_b(self.host_bottom(x_host))\n",
    "        out = self.top_model_guest(guest_fw + host_fw)\n",
    "        return out\n",
    "        \n",
    "    def predict(self, data):\n",
    "        rs = self.forward(data)\n",
    "        return rs.detach().numpy()\n",
    "    \n",
    "\n",
    "class TestDataset(Dataset):\n",
    "    \n",
    "    def __init__(self, guest_data, host_data, label):\n",
    "        super(TestDataset, self).__init__()\n",
    "        self.g = guest_data\n",
    "        self.h = host_data\n",
    "        self.l = label\n",
    "        \n",
    "    def __getitem__(self, idx):\n",
    "        return self.g[idx], self.h[idx], self.l[idx]\n",
    "    \n",
    "    def __len__(self):\n",
    "        return len(self.l)\n",
    "    \n",
    "\n",
    "def build(param, shape1, shape2):\n",
    "    \n",
    "    return TestModel(shape1, shape2)\n"
   ]
  },
  {
   "cell_type": "code",
   "execution_count": 99,
   "metadata": {},
   "outputs": [],
   "source": [
    "def main(config=\"./config.yaml\", param=\"./hetero_nn_breast_config.yaml\"):\n",
    "    \n",
    "    if isinstance(config, str):\n",
    "        config = JobConfig.load_from_file(config)\n",
    "        data_base_dir = config[\"data_base_dir\"]\n",
    "    else:\n",
    "        data_base_dir = config.data_base_dir\n",
    "\n",
    "    if isinstance(param, str):\n",
    "        param = JobConfig.load_from_file(param)\n",
    "    data_guest = param[\"data_guest\"]\n",
    "    data_host = param[\"data_host\"]\n",
    "\n",
    "    idx = param[\"idx\"]\n",
    "    label_name = param[\"label_name\"]\n",
    "    # prepare data\n",
    "    Xb = pandas.read_csv(os.path.join(data_base_dir, data_guest), index_col=idx)\n",
    "    Xa = pandas.read_csv(os.path.join(data_base_dir, data_host), index_col=idx)\n",
    "    y = Xb[label_name]\n",
    "    out = Xa.drop(Xb.index)\n",
    "    Xa = Xa.drop(out.index)\n",
    "    Xb = Xb.drop(label_name, axis=1)\n",
    "    \n",
    "    # torch model\n",
    "    model = build(param, Xb.shape[1], Xa.shape[1])\n",
    "    Xb = t.Tensor(Xb.values)\n",
    "    Xa = t.Tensor(Xa.values)\n",
    "    y = t.Tensor(y.values)\n",
    "    dataset = TestDataset(Xb, Xa, y)\n",
    "    batch_size = len(dataset) if param['batch_size'] == -1 else param['batch_size']\n",
    "    dataloader = DataLoader(dataset, batch_size=batch_size)\n",
    "    optimizer = t.optim.Adam(model.parameters(), lr=param['learning_rate'])\n",
    "    \n",
    "    if param['eval_type'] == 'binary':\n",
    "        loss_fn = t.nn.BCELoss()\n",
    "    \n",
    "    for i in tqdm.tqdm(range(param['epochs'])):\n",
    "         \n",
    "        for gd, hd, label in dataloader:\n",
    "            optimizer.zero_grad()\n",
    "            pred = model([gd, hd])\n",
    "            loss = loss_fn(pred.flatten(), label.type(t.float32))\n",
    "            loss.backward()\n",
    "            optimizer.step()\n",
    "#             print('loss is {}'.format(loss.detach().numpy()))\n",
    "            \n",
    "    eval_result = {}\n",
    "    for metric in param[\"metrics\"]:\n",
    "        if metric.lower() == \"auc\":\n",
    "            predict_y = model.predict([Xb, Xa])\n",
    "            auc = metrics.roc_auc_score(y, predict_y)\n",
    "            eval_result[\"auc\"] = auc\n",
    "        elif metric == \"accuracy\":\n",
    "            predict_y = np.argmax(model.predict([Xb, Xa]), axis=1)\n",
    "            predict_y = label_encoder.inverse_transform(predict_y)\n",
    "            acc = metrics.accuracy_score(y_true=labels, y_pred=predict_y)\n",
    "            eval_result[\"accuracy\"] = acc\n",
    "\n",
    "    data_summary = {}\n",
    "    return data_summary, eval_result"
   ]
  },
  {
   "cell_type": "code",
   "execution_count": 98,
   "metadata": {},
   "outputs": [
    {
     "name": "stderr",
     "output_type": "stream",
     "text": [
      "100%|██████████| 50/50 [00:00<00:00, 163.63it/s]"
     ]
    },
    {
     "name": "stdout",
     "output_type": "stream",
     "text": [
      "{'auc': 0.9980180751545901}\n"
     ]
    },
    {
     "name": "stderr",
     "output_type": "stream",
     "text": [
      "\n"
     ]
    }
   ],
   "source": [
    "a, b = main()"
   ]
  },
  {
   "cell_type": "code",
   "execution_count": 123,
   "metadata": {},
   "outputs": [
    {
     "name": "stderr",
     "output_type": "stream",
     "text": [
      "100%|██████████| 10/10 [00:23<00:00,  2.34s/it]\n"
     ]
    }
   ],
   "source": [
    "a, b = main(param=\"./hetero_nn_give_credit_config.yaml\")"
   ]
  },
  {
   "cell_type": "code",
   "execution_count": 124,
   "metadata": {},
   "outputs": [
    {
     "data": {
      "text/plain": [
       "{'auc': 0.8267860052950964}"
      ]
     },
     "execution_count": 124,
     "metadata": {},
     "output_type": "execute_result"
    }
   ],
   "source": [
    "b"
   ]
  },
  {
   "cell_type": "code",
   "execution_count": null,
   "metadata": {},
   "outputs": [],
   "source": []
  }
 ],
 "metadata": {
  "kernelspec": {
   "display_name": "Python 3",
   "language": "python",
   "name": "python3"
  },
  "language_info": {
   "codemirror_mode": {
    "name": "ipython",
    "version": 3
   },
   "file_extension": ".py",
   "mimetype": "text/x-python",
   "name": "python",
   "nbconvert_exporter": "python",
   "pygments_lexer": "ipython3",
   "version": "3.8.5"
  }
 },
 "nbformat": 4,
 "nbformat_minor": 5
}
